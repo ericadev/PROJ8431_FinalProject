{
 "cells": [
  {
   "cell_type": "markdown",
   "id": "9846281d",
   "metadata": {},
   "source": [
    "# Final Project\n",
    "\n",
    "## Team Members\n",
    "- Reham Abuarqoub, 9062922\n",
    "- Erica Holden, 5490685\n",
    "- Yu-Chen Chou (Tracy), 9006160 "
   ]
  },
  {
   "cell_type": "markdown",
   "id": "302eb7b2",
   "metadata": {},
   "source": [
    "## Tasks\n",
    "\n",
    "* Clustering: Cluster launches by country, mission type, or launch vehicle type.\n",
    "* Classification: Predict whether a mission will be successful or fail based on features like launch vehicle, country, payload, etc.\n",
    "* Regression: Predict payload mass or cost based on mission details.\n",
    "* Probabilistic Reasoning: Estimate the probability of mission success given country and vehicle type."
   ]
  },
  {
   "cell_type": "code",
   "execution_count": 1,
   "id": "4df91e36",
   "metadata": {},
   "outputs": [
    {
     "ename": "ModuleNotFoundError",
     "evalue": "No module named 'pandas'",
     "output_type": "error",
     "traceback": [
      "\u001b[31m---------------------------------------------------------------------------\u001b[39m",
      "\u001b[31mModuleNotFoundError\u001b[39m                       Traceback (most recent call last)",
      "\u001b[36mCell\u001b[39m\u001b[36m \u001b[39m\u001b[32mIn[1]\u001b[39m\u001b[32m, line 1\u001b[39m\n\u001b[32m----> \u001b[39m\u001b[32m1\u001b[39m \u001b[38;5;28;01mimport\u001b[39;00m\u001b[38;5;250m \u001b[39m\u001b[34;01mpandas\u001b[39;00m\u001b[38;5;250m \u001b[39m\u001b[38;5;28;01mas\u001b[39;00m\u001b[38;5;250m \u001b[39m\u001b[34;01mpd\u001b[39;00m\n\u001b[32m      2\u001b[39m \u001b[38;5;28;01mfrom\u001b[39;00m\u001b[38;5;250m \u001b[39m\u001b[34;01msklearn\u001b[39;00m\u001b[34;01m.\u001b[39;00m\u001b[34;01mlinear_model\u001b[39;00m\u001b[38;5;250m \u001b[39m\u001b[38;5;28;01mimport\u001b[39;00m LogisticRegression\n\u001b[32m      3\u001b[39m \u001b[38;5;28;01mfrom\u001b[39;00m\u001b[38;5;250m \u001b[39m\u001b[34;01msklearn\u001b[39;00m\u001b[34;01m.\u001b[39;00m\u001b[34;01mmodel_selection\u001b[39;00m\u001b[38;5;250m \u001b[39m\u001b[38;5;28;01mimport\u001b[39;00m train_test_split\n",
      "\u001b[31mModuleNotFoundError\u001b[39m: No module named 'pandas'"
     ]
    }
   ],
   "source": [
    "import pandas as pd\n",
    "from sklearn.linear_model import LogisticRegression\n",
    "from sklearn.model_selection import train_test_split"
   ]
  },
  {
   "cell_type": "code",
   "execution_count": null,
   "id": "43410c15",
   "metadata": {},
   "outputs": [],
   "source": [
    "# Load dataset\n",
    "df = pd.read_csv('./data/Space_Corrected.csv')\n",
    "\n",
    "# Display first 5 rows\n",
    "print(\"First 5 rows of the dataset:\")\n",
    "print(df.head())"
   ]
  },
  {
   "cell_type": "code",
   "execution_count": null,
   "id": "adbd35b6",
   "metadata": {},
   "outputs": [],
   "source": [
    "# Cluster launches by country\n",
    "country_counts = df['Country'].value_counts()\n",
    "print(\"\\nNumber of launches by country:\")\n",
    "print(country_counts)\n",
    "\n",
    "# Prepare data for logistic regression\n",
    "X = df[['Age', 'Experience']]\n",
    "y = df['Space_Traveller']  # Assuming 'Space_Traveller' is the target variable\n",
    "X_train, X_test, y_train, y_test = train_test_split(X, y, test_size=0.2, random_state=42)\n",
    "\n",
    "# Train logistic regression model\n",
    "model = LogisticRegression()\n",
    "model.fit(X_train, y_train)\n",
    "\n",
    "accuracy = model.score(X_test, y_test)\n",
    "print(f\"\\nModel accuracy: {accuracy:.2f}\")\n",
    "\n",
    "# Predict on test set\n",
    "predictions = model.predict(X_test)\n",
    "print(\"\\nFirst 5 predictions:\")\n",
    "print(predictions[:5])"
   ]
  }
 ],
 "metadata": {
  "kernelspec": {
   "display_name": ".venv",
   "language": "python",
   "name": "python3"
  },
  "language_info": {
   "codemirror_mode": {
    "name": "ipython",
    "version": 3
   },
   "file_extension": ".py",
   "mimetype": "text/x-python",
   "name": "python",
   "nbconvert_exporter": "python",
   "pygments_lexer": "ipython3",
   "version": "3.12.9"
  }
 },
 "nbformat": 4,
 "nbformat_minor": 5
}
